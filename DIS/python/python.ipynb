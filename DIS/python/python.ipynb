{
 "cells": [
  {
   "cell_type": "code",
   "execution_count": 7,
   "metadata": {},
   "outputs": [],
   "source": [
    "import pandas as pd\n",
    "import json"
   ]
  },
  {
   "cell_type": "code",
   "execution_count": 77,
   "metadata": {},
   "outputs": [
    {
     "name": "stdout",
     "output_type": "stream",
     "text": [
      "cod : 200\n",
      "message : 0\n",
      "cnt : 40\n",
      "list : [{'dt': 1698526800, 'main': {'temp': 284.25, 'feels_like': 283.32, 'temp_min': 282.9, 'temp_max': 284.25, 'pressure': 1010, 'sea_level': 1010, 'grnd_level': 925, 'humidity': 73, 'temp_kf': 1.35}, 'weather': [{'id': 802, 'main': 'Clouds', 'description': 'scattered clouds', 'icon': '03n'}], 'clouds': {'all': 45}, 'wind': {'speed': 2.92, 'deg': 194, 'gust': 3.63}, 'visibility': 10000, 'pop': 0.12, 'sys': {'pod': 'n'}, 'dt_txt': '2023-10-28 21:00:00'}, {'dt': 1698537600, 'main': {'temp': 284.31, 'feels_like': 283.44, 'temp_min': 284, 'temp_max': 284.31, 'pressure': 1011, 'sea_level': 1011, 'grnd_level': 926, 'humidity': 75, 'temp_kf': 0.31}, 'weather': [{'id': 802, 'main': 'Clouds', 'description': 'scattered clouds', 'icon': '03n'}], 'clouds': {'all': 30}, 'wind': {'speed': 2.54, 'deg': 188, 'gust': 3.31}, 'visibility': 10000, 'pop': 0.12, 'sys': {'pod': 'n'}, 'dt_txt': '2023-10-29 00:00:00'}, {'dt': 1698548400, 'main': {'temp': 282.59, 'feels_like': 281.16, 'temp_min': 282.59, 'temp_max': 282.59, 'pressure': 1012, 'sea_level': 1012, 'grnd_level': 926, 'humidity': 81, 'temp_kf': 0}, 'weather': [{'id': 802, 'main': 'Clouds', 'description': 'scattered clouds', 'icon': '03n'}], 'clouds': {'all': 41}, 'wind': {'speed': 2.73, 'deg': 200, 'gust': 2.71}, 'visibility': 10000, 'pop': 0.08, 'sys': {'pod': 'n'}, 'dt_txt': '2023-10-29 03:00:00'}, {'dt': 1698559200, 'main': {'temp': 282.59, 'feels_like': 281.25, 'temp_min': 282.59, 'temp_max': 282.59, 'pressure': 1012, 'sea_level': 1012, 'grnd_level': 926, 'humidity': 80, 'temp_kf': 0}, 'weather': [{'id': 803, 'main': 'Clouds', 'description': 'broken clouds', 'icon': '04d'}], 'clouds': {'all': 58}, 'wind': {'speed': 2.59, 'deg': 189, 'gust': 2.31}, 'visibility': 10000, 'pop': 0.04, 'sys': {'pod': 'd'}, 'dt_txt': '2023-10-29 06:00:00'}, {'dt': 1698570000, 'main': {'temp': 288.06, 'feels_like': 287.15, 'temp_min': 288.06, 'temp_max': 288.06, 'pressure': 1013, 'sea_level': 1013, 'grnd_level': 928, 'humidity': 59, 'temp_kf': 0}, 'weather': [{'id': 803, 'main': 'Clouds', 'description': 'broken clouds', 'icon': '04d'}], 'clouds': {'all': 77}, 'wind': {'speed': 1.36, 'deg': 195, 'gust': 2.61}, 'visibility': 10000, 'pop': 0, 'sys': {'pod': 'd'}, 'dt_txt': '2023-10-29 09:00:00'}, {'dt': 1698580800, 'main': {'temp': 290.69, 'feels_like': 289.83, 'temp_min': 290.69, 'temp_max': 290.69, 'pressure': 1012, 'sea_level': 1012, 'grnd_level': 928, 'humidity': 51, 'temp_kf': 0}, 'weather': [{'id': 804, 'main': 'Clouds', 'description': 'overcast clouds', 'icon': '04d'}], 'clouds': {'all': 88}, 'wind': {'speed': 0.56, 'deg': 236, 'gust': 3.2}, 'visibility': 10000, 'pop': 0.24, 'sys': {'pod': 'd'}, 'dt_txt': '2023-10-29 12:00:00'}, {'dt': 1698591600, 'main': {'temp': 289.02, 'feels_like': 288.26, 'temp_min': 289.02, 'temp_max': 289.02, 'pressure': 1012, 'sea_level': 1012, 'grnd_level': 928, 'humidity': 61, 'temp_kf': 0}, 'weather': [{'id': 804, 'main': 'Clouds', 'description': 'overcast clouds', 'icon': '04d'}], 'clouds': {'all': 100}, 'wind': {'speed': 0.58, 'deg': 57, 'gust': 1}, 'visibility': 10000, 'pop': 0.28, 'sys': {'pod': 'd'}, 'dt_txt': '2023-10-29 15:00:00'}, {'dt': 1698602400, 'main': {'temp': 284.83, 'feels_like': 284.06, 'temp_min': 284.83, 'temp_max': 284.83, 'pressure': 1014, 'sea_level': 1014, 'grnd_level': 928, 'humidity': 77, 'temp_kf': 0}, 'weather': [{'id': 804, 'main': 'Clouds', 'description': 'overcast clouds', 'icon': '04n'}], 'clouds': {'all': 100}, 'wind': {'speed': 1.93, 'deg': 203, 'gust': 1.7}, 'visibility': 10000, 'pop': 0.2, 'sys': {'pod': 'n'}, 'dt_txt': '2023-10-29 18:00:00'}, {'dt': 1698613200, 'main': {'temp': 284.03, 'feels_like': 283.34, 'temp_min': 284.03, 'temp_max': 284.03, 'pressure': 1014, 'sea_level': 1014, 'grnd_level': 929, 'humidity': 83, 'temp_kf': 0}, 'weather': [{'id': 804, 'main': 'Clouds', 'description': 'overcast clouds', 'icon': '04n'}], 'clouds': {'all': 100}, 'wind': {'speed': 2.15, 'deg': 206, 'gust': 2.01}, 'visibility': 10000, 'pop': 0, 'sys': {'pod': 'n'}, 'dt_txt': '2023-10-29 21:00:00'}, {'dt': 1698624000, 'main': {'temp': 284.12, 'feels_like': 283.44, 'temp_min': 284.12, 'temp_max': 284.12, 'pressure': 1014, 'sea_level': 1014, 'grnd_level': 928, 'humidity': 83, 'temp_kf': 0}, 'weather': [{'id': 804, 'main': 'Clouds', 'description': 'overcast clouds', 'icon': '04n'}], 'clouds': {'all': 100}, 'wind': {'speed': 1.66, 'deg': 197, 'gust': 1.61}, 'visibility': 10000, 'pop': 0.08, 'sys': {'pod': 'n'}, 'dt_txt': '2023-10-30 00:00:00'}, {'dt': 1698634800, 'main': {'temp': 285.07, 'feels_like': 284.41, 'temp_min': 285.07, 'temp_max': 285.07, 'pressure': 1013, 'sea_level': 1013, 'grnd_level': 927, 'humidity': 80, 'temp_kf': 0}, 'weather': [{'id': 804, 'main': 'Clouds', 'description': 'overcast clouds', 'icon': '04n'}], 'clouds': {'all': 100}, 'wind': {'speed': 0.94, 'deg': 135, 'gust': 0.92}, 'visibility': 10000, 'pop': 0.4, 'sys': {'pod': 'n'}, 'dt_txt': '2023-10-30 03:00:00'}, {'dt': 1698645600, 'main': {'temp': 284.7, 'feels_like': 284.16, 'temp_min': 284.7, 'temp_max': 284.7, 'pressure': 1013, 'sea_level': 1013, 'grnd_level': 927, 'humidity': 86, 'temp_kf': 0}, 'weather': [{'id': 500, 'main': 'Rain', 'description': 'light rain', 'icon': '10d'}], 'clouds': {'all': 100}, 'wind': {'speed': 0.99, 'deg': 70, 'gust': 1.22}, 'visibility': 10000, 'pop': 0.72, 'rain': {'3h': 0.19}, 'sys': {'pod': 'd'}, 'dt_txt': '2023-10-30 06:00:00'}, {'dt': 1698656400, 'main': {'temp': 285.86, 'feels_like': 285.43, 'temp_min': 285.86, 'temp_max': 285.86, 'pressure': 1012, 'sea_level': 1012, 'grnd_level': 927, 'humidity': 86, 'temp_kf': 0}, 'weather': [{'id': 500, 'main': 'Rain', 'description': 'light rain', 'icon': '10d'}], 'clouds': {'all': 100}, 'wind': {'speed': 1.28, 'deg': 67, 'gust': 1.4}, 'visibility': 10000, 'pop': 0.84, 'rain': {'3h': 0.25}, 'sys': {'pod': 'd'}, 'dt_txt': '2023-10-30 09:00:00'}, {'dt': 1698667200, 'main': {'temp': 286.99, 'feels_like': 286.6, 'temp_min': 286.99, 'temp_max': 286.99, 'pressure': 1010, 'sea_level': 1010, 'grnd_level': 925, 'humidity': 83, 'temp_kf': 0}, 'weather': [{'id': 804, 'main': 'Clouds', 'description': 'overcast clouds', 'icon': '04d'}], 'clouds': {'all': 100}, 'wind': {'speed': 2.3, 'deg': 58, 'gust': 3.21}, 'visibility': 10000, 'pop': 0.76, 'sys': {'pod': 'd'}, 'dt_txt': '2023-10-30 12:00:00'}, {'dt': 1698678000, 'main': {'temp': 287.44, 'feels_like': 287.12, 'temp_min': 287.44, 'temp_max': 287.44, 'pressure': 1007, 'sea_level': 1007, 'grnd_level': 923, 'humidity': 84, 'temp_kf': 0}, 'weather': [{'id': 500, 'main': 'Rain', 'description': 'light rain', 'icon': '10d'}], 'clouds': {'all': 100}, 'wind': {'speed': 2.33, 'deg': 113, 'gust': 3.91}, 'visibility': 10000, 'pop': 0.88, 'rain': {'3h': 1.13}, 'sys': {'pod': 'd'}, 'dt_txt': '2023-10-30 15:00:00'}, {'dt': 1698688800, 'main': {'temp': 285.95, 'feels_like': 285.64, 'temp_min': 285.95, 'temp_max': 285.95, 'pressure': 1006, 'sea_level': 1006, 'grnd_level': 921, 'humidity': 90, 'temp_kf': 0}, 'weather': [{'id': 500, 'main': 'Rain', 'description': 'light rain', 'icon': '10n'}], 'clouds': {'all': 100}, 'wind': {'speed': 1.61, 'deg': 133, 'gust': 2.6}, 'visibility': 10000, 'pop': 0.92, 'rain': {'3h': 1.31}, 'sys': {'pod': 'n'}, 'dt_txt': '2023-10-30 18:00:00'}, {'dt': 1698699600, 'main': {'temp': 285.07, 'feels_like': 284.9, 'temp_min': 285.07, 'temp_max': 285.07, 'pressure': 1003, 'sea_level': 1003, 'grnd_level': 918, 'humidity': 99, 'temp_kf': 0}, 'weather': [{'id': 502, 'main': 'Rain', 'description': 'heavy intensity rain', 'icon': '10n'}], 'clouds': {'all': 100}, 'wind': {'speed': 3.91, 'deg': 296, 'gust': 6.7}, 'visibility': 354, 'pop': 1, 'rain': {'3h': 24.06}, 'sys': {'pod': 'n'}, 'dt_txt': '2023-10-30 21:00:00'}, {'dt': 1698710400, 'main': {'temp': 286.09, 'feels_like': 285.76, 'temp_min': 286.09, 'temp_max': 286.09, 'pressure': 1003, 'sea_level': 1003, 'grnd_level': 919, 'humidity': 89, 'temp_kf': 0}, 'weather': [{'id': 501, 'main': 'Rain', 'description': 'moderate rain', 'icon': '10n'}], 'clouds': {'all': 100}, 'wind': {'speed': 2.33, 'deg': 171, 'gust': 3.9}, 'visibility': 10000, 'pop': 1, 'rain': {'3h': 9}, 'sys': {'pod': 'n'}, 'dt_txt': '2023-10-31 00:00:00'}, {'dt': 1698721200, 'main': {'temp': 285.26, 'feels_like': 284.56, 'temp_min': 285.26, 'temp_max': 285.26, 'pressure': 1004, 'sea_level': 1004, 'grnd_level': 919, 'humidity': 78, 'temp_kf': 0}, 'weather': [{'id': 803, 'main': 'Clouds', 'description': 'broken clouds', 'icon': '04n'}], 'clouds': {'all': 74}, 'wind': {'speed': 3.05, 'deg': 206, 'gust': 6.2}, 'visibility': 10000, 'pop': 0.32, 'sys': {'pod': 'n'}, 'dt_txt': '2023-10-31 03:00:00'}, {'dt': 1698732000, 'main': {'temp': 284.43, 'feels_like': 283.68, 'temp_min': 284.43, 'temp_max': 284.43, 'pressure': 1004, 'sea_level': 1004, 'grnd_level': 919, 'humidity': 79, 'temp_kf': 0}, 'weather': [{'id': 804, 'main': 'Clouds', 'description': 'overcast clouds', 'icon': '04d'}], 'clouds': {'all': 86}, 'wind': {'speed': 3.47, 'deg': 191, 'gust': 7}, 'visibility': 10000, 'pop': 0.32, 'sys': {'pod': 'd'}, 'dt_txt': '2023-10-31 06:00:00'}, {'dt': 1698742800, 'main': {'temp': 287.72, 'feels_like': 286.8, 'temp_min': 287.72, 'temp_max': 287.72, 'pressure': 1005, 'sea_level': 1005, 'grnd_level': 921, 'humidity': 60, 'temp_kf': 0}, 'weather': [{'id': 800, 'main': 'Clear', 'description': 'clear sky', 'icon': '01d'}], 'clouds': {'all': 3}, 'wind': {'speed': 6.92, 'deg': 221, 'gust': 14.51}, 'visibility': 10000, 'pop': 0.12, 'sys': {'pod': 'd'}, 'dt_txt': '2023-10-31 09:00:00'}, {'dt': 1698753600, 'main': {'temp': 289.16, 'feels_like': 287.99, 'temp_min': 289.16, 'temp_max': 289.16, 'pressure': 1006, 'sea_level': 1006, 'grnd_level': 922, 'humidity': 45, 'temp_kf': 0}, 'weather': [{'id': 800, 'main': 'Clear', 'description': 'clear sky', 'icon': '01d'}], 'clouds': {'all': 1}, 'wind': {'speed': 4.56, 'deg': 251, 'gust': 10.71}, 'visibility': 10000, 'pop': 0.12, 'sys': {'pod': 'd'}, 'dt_txt': '2023-10-31 12:00:00'}, {'dt': 1698764400, 'main': {'temp': 287.28, 'feels_like': 286.32, 'temp_min': 287.28, 'temp_max': 287.28, 'pressure': 1007, 'sea_level': 1007, 'grnd_level': 923, 'humidity': 60, 'temp_kf': 0}, 'weather': [{'id': 800, 'main': 'Clear', 'description': 'clear sky', 'icon': '01d'}], 'clouds': {'all': 0}, 'wind': {'speed': 2.54, 'deg': 249, 'gust': 5.01}, 'visibility': 10000, 'pop': 0, 'sys': {'pod': 'd'}, 'dt_txt': '2023-10-31 15:00:00'}, {'dt': 1698775200, 'main': {'temp': 282.75, 'feels_like': 281.32, 'temp_min': 282.75, 'temp_max': 282.75, 'pressure': 1011, 'sea_level': 1011, 'grnd_level': 925, 'humidity': 77, 'temp_kf': 0}, 'weather': [{'id': 800, 'main': 'Clear', 'description': 'clear sky', 'icon': '01n'}], 'clouds': {'all': 0}, 'wind': {'speed': 2.78, 'deg': 212, 'gust': 3.01}, 'visibility': 10000, 'pop': 0, 'sys': {'pod': 'n'}, 'dt_txt': '2023-10-31 18:00:00'}, {'dt': 1698786000, 'main': {'temp': 282.35, 'feels_like': 280.84, 'temp_min': 282.35, 'temp_max': 282.35, 'pressure': 1013, 'sea_level': 1013, 'grnd_level': 927, 'humidity': 79, 'temp_kf': 0}, 'weather': [{'id': 800, 'main': 'Clear', 'description': 'clear sky', 'icon': '01n'}], 'clouds': {'all': 3}, 'wind': {'speed': 2.78, 'deg': 199, 'gust': 2.61}, 'visibility': 10000, 'pop': 0, 'sys': {'pod': 'n'}, 'dt_txt': '2023-10-31 21:00:00'}, {'dt': 1698796800, 'main': {'temp': 281.93, 'feels_like': 280.75, 'temp_min': 281.93, 'temp_max': 281.93, 'pressure': 1015, 'sea_level': 1015, 'grnd_level': 928, 'humidity': 81, 'temp_kf': 0}, 'weather': [{'id': 802, 'main': 'Clouds', 'description': 'scattered clouds', 'icon': '03n'}], 'clouds': {'all': 34}, 'wind': {'speed': 2.21, 'deg': 206, 'gust': 2.01}, 'visibility': 10000, 'pop': 0, 'sys': {'pod': 'n'}, 'dt_txt': '2023-11-01 00:00:00'}, {'dt': 1698807600, 'main': {'temp': 281.9, 'feels_like': 281.22, 'temp_min': 281.9, 'temp_max': 281.9, 'pressure': 1015, 'sea_level': 1015, 'grnd_level': 928, 'humidity': 82, 'temp_kf': 0}, 'weather': [{'id': 804, 'main': 'Clouds', 'description': 'overcast clouds', 'icon': '04n'}], 'clouds': {'all': 100}, 'wind': {'speed': 1.64, 'deg': 200, 'gust': 1.52}, 'visibility': 10000, 'pop': 0, 'sys': {'pod': 'n'}, 'dt_txt': '2023-11-01 03:00:00'}, {'dt': 1698818400, 'main': {'temp': 281.91, 'feels_like': 281.91, 'temp_min': 281.91, 'temp_max': 281.91, 'pressure': 1015, 'sea_level': 1015, 'grnd_level': 929, 'humidity': 83, 'temp_kf': 0}, 'weather': [{'id': 804, 'main': 'Clouds', 'description': 'overcast clouds', 'icon': '04d'}], 'clouds': {'all': 100}, 'wind': {'speed': 0.67, 'deg': 186, 'gust': 0.8}, 'visibility': 10000, 'pop': 0.08, 'sys': {'pod': 'd'}, 'dt_txt': '2023-11-01 06:00:00'}, {'dt': 1698829200, 'main': {'temp': 284.34, 'feels_like': 283.47, 'temp_min': 284.34, 'temp_max': 284.34, 'pressure': 1016, 'sea_level': 1016, 'grnd_level': 930, 'humidity': 75, 'temp_kf': 0}, 'weather': [{'id': 804, 'main': 'Clouds', 'description': 'overcast clouds', 'icon': '04d'}], 'clouds': {'all': 100}, 'wind': {'speed': 0.64, 'deg': 32, 'gust': 0.8}, 'visibility': 10000, 'pop': 0.16, 'sys': {'pod': 'd'}, 'dt_txt': '2023-11-01 09:00:00'}, {'dt': 1698840000, 'main': {'temp': 286.09, 'feels_like': 285.14, 'temp_min': 286.09, 'temp_max': 286.09, 'pressure': 1014, 'sea_level': 1014, 'grnd_level': 929, 'humidity': 65, 'temp_kf': 0}, 'weather': [{'id': 804, 'main': 'Clouds', 'description': 'overcast clouds', 'icon': '04d'}], 'clouds': {'all': 100}, 'wind': {'speed': 0.94, 'deg': 9, 'gust': 2.22}, 'visibility': 10000, 'pop': 0.12, 'sys': {'pod': 'd'}, 'dt_txt': '2023-11-01 12:00:00'}, {'dt': 1698850800, 'main': {'temp': 285.1, 'feels_like': 284.28, 'temp_min': 285.1, 'temp_max': 285.1, 'pressure': 1014, 'sea_level': 1014, 'grnd_level': 928, 'humidity': 74, 'temp_kf': 0}, 'weather': [{'id': 804, 'main': 'Clouds', 'description': 'overcast clouds', 'icon': '04d'}], 'clouds': {'all': 100}, 'wind': {'speed': 0.74, 'deg': 85, 'gust': 0.81}, 'visibility': 10000, 'pop': 0.12, 'sys': {'pod': 'd'}, 'dt_txt': '2023-11-01 15:00:00'}, {'dt': 1698861600, 'main': {'temp': 282.29, 'feels_like': 281.45, 'temp_min': 282.29, 'temp_max': 282.29, 'pressure': 1015, 'sea_level': 1015, 'grnd_level': 928, 'humidity': 81, 'temp_kf': 0}, 'weather': [{'id': 804, 'main': 'Clouds', 'description': 'overcast clouds', 'icon': '04n'}], 'clouds': {'all': 93}, 'wind': {'speed': 1.88, 'deg': 240, 'gust': 1.8}, 'visibility': 10000, 'pop': 0.08, 'sys': {'pod': 'n'}, 'dt_txt': '2023-11-01 18:00:00'}, {'dt': 1698872400, 'main': {'temp': 281.9, 'feels_like': 280.84, 'temp_min': 281.9, 'temp_max': 281.9, 'pressure': 1014, 'sea_level': 1014, 'grnd_level': 928, 'humidity': 79, 'temp_kf': 0}, 'weather': [{'id': 803, 'main': 'Clouds', 'description': 'broken clouds', 'icon': '04n'}], 'clouds': {'all': 70}, 'wind': {'speed': 2.05, 'deg': 205, 'gust': 1.91}, 'visibility': 10000, 'pop': 0, 'sys': {'pod': 'n'}, 'dt_txt': '2023-11-01 21:00:00'}, {'dt': 1698883200, 'main': {'temp': 281.48, 'feels_like': 280.24, 'temp_min': 281.48, 'temp_max': 281.48, 'pressure': 1012, 'sea_level': 1012, 'grnd_level': 926, 'humidity': 77, 'temp_kf': 0}, 'weather': [{'id': 803, 'main': 'Clouds', 'description': 'broken clouds', 'icon': '04n'}], 'clouds': {'all': 60}, 'wind': {'speed': 2.18, 'deg': 193, 'gust': 2.01}, 'visibility': 10000, 'pop': 0.12, 'sys': {'pod': 'n'}, 'dt_txt': '2023-11-02 00:00:00'}, {'dt': 1698894000, 'main': {'temp': 282.56, 'feels_like': 282.16, 'temp_min': 282.56, 'temp_max': 282.56, 'pressure': 1010, 'sea_level': 1010, 'grnd_level': 924, 'humidity': 82, 'temp_kf': 0}, 'weather': [{'id': 500, 'main': 'Rain', 'description': 'light rain', 'icon': '10n'}], 'clouds': {'all': 100}, 'wind': {'speed': 1.47, 'deg': 159, 'gust': 1.71}, 'visibility': 10000, 'pop': 0.52, 'rain': {'3h': 0.31}, 'sys': {'pod': 'n'}, 'dt_txt': '2023-11-02 03:00:00'}, {'dt': 1698904800, 'main': {'temp': 282.45, 'feels_like': 282.45, 'temp_min': 282.45, 'temp_max': 282.45, 'pressure': 1008, 'sea_level': 1008, 'grnd_level': 922, 'humidity': 87, 'temp_kf': 0}, 'weather': [{'id': 500, 'main': 'Rain', 'description': 'light rain', 'icon': '10d'}], 'clouds': {'all': 100}, 'wind': {'speed': 1.23, 'deg': 178, 'gust': 2.11}, 'visibility': 10000, 'pop': 0.64, 'rain': {'3h': 0.38}, 'sys': {'pod': 'd'}, 'dt_txt': '2023-11-02 06:00:00'}, {'dt': 1698915600, 'main': {'temp': 282.42, 'feels_like': 282.42, 'temp_min': 282.42, 'temp_max': 282.42, 'pressure': 1006, 'sea_level': 1006, 'grnd_level': 920, 'humidity': 87, 'temp_kf': 0}, 'weather': [{'id': 500, 'main': 'Rain', 'description': 'light rain', 'icon': '10d'}], 'clouds': {'all': 100}, 'wind': {'speed': 1.33, 'deg': 126, 'gust': 2.11}, 'visibility': 10000, 'pop': 0.76, 'rain': {'3h': 0.25}, 'sys': {'pod': 'd'}, 'dt_txt': '2023-11-02 09:00:00'}, {'dt': 1698926400, 'main': {'temp': 282.68, 'feels_like': 281.67, 'temp_min': 282.68, 'temp_max': 282.68, 'pressure': 1002, 'sea_level': 1002, 'grnd_level': 917, 'humidity': 89, 'temp_kf': 0}, 'weather': [{'id': 500, 'main': 'Rain', 'description': 'light rain', 'icon': '10d'}], 'clouds': {'all': 100}, 'wind': {'speed': 2.16, 'deg': 141, 'gust': 3.91}, 'visibility': 10000, 'pop': 0.8, 'rain': {'3h': 1.06}, 'sys': {'pod': 'd'}, 'dt_txt': '2023-11-02 12:00:00'}, {'dt': 1698937200, 'main': {'temp': 283.8, 'feels_like': 283.24, 'temp_min': 283.8, 'temp_max': 283.8, 'pressure': 998, 'sea_level': 998, 'grnd_level': 913, 'humidity': 89, 'temp_kf': 0}, 'weather': [{'id': 500, 'main': 'Rain', 'description': 'light rain', 'icon': '10d'}], 'clouds': {'all': 99}, 'wind': {'speed': 2.64, 'deg': 120, 'gust': 5.21}, 'visibility': 10000, 'pop': 0.76, 'rain': {'3h': 2.75}, 'sys': {'pod': 'd'}, 'dt_txt': '2023-11-02 15:00:00'}, {'dt': 1698948000, 'main': {'temp': 284.59, 'feels_like': 284.09, 'temp_min': 284.59, 'temp_max': 284.59, 'pressure': 995, 'sea_level': 995, 'grnd_level': 911, 'humidity': 88, 'temp_kf': 0}, 'weather': [{'id': 500, 'main': 'Rain', 'description': 'light rain', 'icon': '10n'}], 'clouds': {'all': 99}, 'wind': {'speed': 2.54, 'deg': 113, 'gust': 8.23}, 'visibility': 10000, 'pop': 0.76, 'rain': {'3h': 0.56}, 'sys': {'pod': 'n'}, 'dt_txt': '2023-11-02 18:00:00'}]\n",
      "city : {'id': 3163858, 'name': 'Zocca', 'coord': {'lat': 44.34, 'lon': 10.99}, 'country': 'IT', 'population': 4593, 'timezone': 7200, 'sunrise': 1698472022, 'sunset': 1698509548}\n",
      "<class 'dict'>\n"
     ]
    }
   ],
   "source": [
    "with open(\"./data/data.json\",\"r\") as f:\n",
    "    data = (json.load(f))\n",
    "for key,value in data.items():\n",
    "\tprint(key, ':', value)\n",
    "      \n",
    "print(type(data))"
   ]
  },
  {
   "cell_type": "code",
   "execution_count": 78,
   "metadata": {},
   "outputs": [
    {
     "name": "stdout",
     "output_type": "stream",
     "text": [
      "{'dt': 1698526800, 'main': {'temp': 284.25, 'feels_like': 283.32, 'temp_min': 282.9, 'temp_max': 284.25, 'pressure': 1010, 'sea_level': 1010, 'grnd_level': 925, 'humidity': 73, 'temp_kf': 1.35}, 'weather': [{'id': 802, 'main': 'Clouds', 'description': 'scattered clouds', 'icon': '03n'}], 'clouds': {'all': 45}, 'wind': {'speed': 2.92, 'deg': 194, 'gust': 3.63}, 'visibility': 10000, 'pop': 0.12, 'sys': {'pod': 'n'}, 'dt_txt': '2023-10-28 21:00:00'}\n",
      "{'dt': 1698537600, 'main': {'temp': 284.31, 'feels_like': 283.44, 'temp_min': 284, 'temp_max': 284.31, 'pressure': 1011, 'sea_level': 1011, 'grnd_level': 926, 'humidity': 75, 'temp_kf': 0.31}, 'weather': [{'id': 802, 'main': 'Clouds', 'description': 'scattered clouds', 'icon': '03n'}], 'clouds': {'all': 30}, 'wind': {'speed': 2.54, 'deg': 188, 'gust': 3.31}, 'visibility': 10000, 'pop': 0.12, 'sys': {'pod': 'n'}, 'dt_txt': '2023-10-29 00:00:00'}\n",
      "{'dt': 1698548400, 'main': {'temp': 282.59, 'feels_like': 281.16, 'temp_min': 282.59, 'temp_max': 282.59, 'pressure': 1012, 'sea_level': 1012, 'grnd_level': 926, 'humidity': 81, 'temp_kf': 0}, 'weather': [{'id': 802, 'main': 'Clouds', 'description': 'scattered clouds', 'icon': '03n'}], 'clouds': {'all': 41}, 'wind': {'speed': 2.73, 'deg': 200, 'gust': 2.71}, 'visibility': 10000, 'pop': 0.08, 'sys': {'pod': 'n'}, 'dt_txt': '2023-10-29 03:00:00'}\n",
      "{'dt': 1698559200, 'main': {'temp': 282.59, 'feels_like': 281.25, 'temp_min': 282.59, 'temp_max': 282.59, 'pressure': 1012, 'sea_level': 1012, 'grnd_level': 926, 'humidity': 80, 'temp_kf': 0}, 'weather': [{'id': 803, 'main': 'Clouds', 'description': 'broken clouds', 'icon': '04d'}], 'clouds': {'all': 58}, 'wind': {'speed': 2.59, 'deg': 189, 'gust': 2.31}, 'visibility': 10000, 'pop': 0.04, 'sys': {'pod': 'd'}, 'dt_txt': '2023-10-29 06:00:00'}\n",
      "{'dt': 1698570000, 'main': {'temp': 288.06, 'feels_like': 287.15, 'temp_min': 288.06, 'temp_max': 288.06, 'pressure': 1013, 'sea_level': 1013, 'grnd_level': 928, 'humidity': 59, 'temp_kf': 0}, 'weather': [{'id': 803, 'main': 'Clouds', 'description': 'broken clouds', 'icon': '04d'}], 'clouds': {'all': 77}, 'wind': {'speed': 1.36, 'deg': 195, 'gust': 2.61}, 'visibility': 10000, 'pop': 0, 'sys': {'pod': 'd'}, 'dt_txt': '2023-10-29 09:00:00'}\n"
     ]
    }
   ],
   "source": [
    "times = data['list']\n",
    "type(times)\n",
    "for x in range(5):\n",
    "    print(times[x])\n"
   ]
  },
  {
   "cell_type": "code",
   "execution_count": 79,
   "metadata": {},
   "outputs": [
    {
     "name": "stdout",
     "output_type": "stream",
     "text": [
      "['2023-10-28 21:00:00', '2023-10-29 00:00:00', '2023-10-29 03:00:00', '2023-10-29 06:00:00', '2023-10-29 09:00:00', '2023-10-29 12:00:00', '2023-10-29 15:00:00', '2023-10-29 18:00:00', '2023-10-29 21:00:00', '2023-10-30 00:00:00', '2023-10-30 03:00:00', '2023-10-30 06:00:00', '2023-10-30 09:00:00', '2023-10-30 12:00:00', '2023-10-30 15:00:00', '2023-10-30 18:00:00', '2023-10-30 21:00:00', '2023-10-31 00:00:00', '2023-10-31 03:00:00', '2023-10-31 06:00:00', '2023-10-31 09:00:00', '2023-10-31 12:00:00', '2023-10-31 15:00:00', '2023-10-31 18:00:00', '2023-10-31 21:00:00', '2023-11-01 00:00:00', '2023-11-01 03:00:00', '2023-11-01 06:00:00', '2023-11-01 09:00:00', '2023-11-01 12:00:00', '2023-11-01 15:00:00', '2023-11-01 18:00:00', '2023-11-01 21:00:00', '2023-11-02 00:00:00', '2023-11-02 03:00:00', '2023-11-02 06:00:00', '2023-11-02 09:00:00', '2023-11-02 12:00:00', '2023-11-02 15:00:00', '2023-11-02 18:00:00']\n",
      "[2.92, 2.54, 2.73, 2.59, 1.36, 0.56, 0.58, 1.93, 2.15, 1.66, 0.94, 0.99, 1.28, 2.3, 2.33, 1.61, 3.91, 2.33, 3.05, 3.47, 6.92, 4.56, 2.54, 2.78, 2.78, 2.21, 1.64, 0.67, 0.64, 0.94, 0.74, 1.88, 2.05, 2.18, 1.47, 1.23, 1.33, 2.16, 2.64, 2.54]\n",
      "[194, 188, 200, 189, 195, 236, 57, 203, 206, 197, 135, 70, 67, 58, 113, 133, 296, 171, 206, 191, 221, 251, 249, 212, 199, 206, 200, 186, 32, 9, 85, 240, 205, 193, 159, 178, 126, 141, 120, 113]\n",
      "[3.63, 3.31, 2.71, 2.31, 2.61, 3.2, 1, 1.7, 2.01, 1.61, 0.92, 1.22, 1.4, 3.21, 3.91, 2.6, 6.7, 3.9, 6.2, 7, 14.51, 10.71, 5.01, 3.01, 2.61, 2.01, 1.52, 0.8, 0.8, 2.22, 0.81, 1.8, 1.91, 2.01, 1.71, 2.11, 2.11, 3.91, 5.21, 8.23]\n"
     ]
    }
   ],
   "source": [
    "time_array =[]\n",
    "for item in times:\n",
    "    time = item['dt_txt']\n",
    "    time_array.append(time)\n",
    "print(time_array)\n",
    "\n",
    "\n",
    "wind_speed =[]\n",
    "for item in times:\n",
    "    time = item['wind']['speed']\n",
    "    wind_speed.append(time)\n",
    "print(wind_speed)\n",
    "\n",
    "wind_deg =[]\n",
    "for item in times:\n",
    "    time = item['wind']['deg']\n",
    "    wind_deg.append(time)\n",
    "print(wind_deg)\n",
    "\n",
    "wind_gust =[]\n",
    "for item in times:\n",
    "    time = item['wind']['gust']\n",
    "    wind_gust.append(time)\n",
    "print(wind_gust)"
   ]
  },
  {
   "cell_type": "code",
   "execution_count": 80,
   "metadata": {},
   "outputs": [
    {
     "name": "stdout",
     "output_type": "stream",
     "text": [
      "               datetime  wind_speed  wind_deg  wind_gust\n",
      "0   2023-10-28 21:00:00        2.92      3.63       3.63\n",
      "1   2023-10-29 00:00:00        2.54      3.31       3.31\n",
      "2   2023-10-29 03:00:00        2.73      2.71       2.71\n",
      "3   2023-10-29 06:00:00        2.59      2.31       2.31\n",
      "4   2023-10-29 09:00:00        1.36      2.61       2.61\n",
      "5   2023-10-29 12:00:00        0.56      3.20       3.20\n",
      "6   2023-10-29 15:00:00        0.58      1.00       1.00\n",
      "7   2023-10-29 18:00:00        1.93      1.70       1.70\n",
      "8   2023-10-29 21:00:00        2.15      2.01       2.01\n",
      "9   2023-10-30 00:00:00        1.66      1.61       1.61\n",
      "10  2023-10-30 03:00:00        0.94      0.92       0.92\n",
      "11  2023-10-30 06:00:00        0.99      1.22       1.22\n",
      "12  2023-10-30 09:00:00        1.28      1.40       1.40\n",
      "13  2023-10-30 12:00:00        2.30      3.21       3.21\n",
      "14  2023-10-30 15:00:00        2.33      3.91       3.91\n",
      "15  2023-10-30 18:00:00        1.61      2.60       2.60\n",
      "16  2023-10-30 21:00:00        3.91      6.70       6.70\n",
      "17  2023-10-31 00:00:00        2.33      3.90       3.90\n",
      "18  2023-10-31 03:00:00        3.05      6.20       6.20\n",
      "19  2023-10-31 06:00:00        3.47      7.00       7.00\n",
      "20  2023-10-31 09:00:00        6.92     14.51      14.51\n",
      "21  2023-10-31 12:00:00        4.56     10.71      10.71\n",
      "22  2023-10-31 15:00:00        2.54      5.01       5.01\n",
      "23  2023-10-31 18:00:00        2.78      3.01       3.01\n",
      "24  2023-10-31 21:00:00        2.78      2.61       2.61\n",
      "25  2023-11-01 00:00:00        2.21      2.01       2.01\n",
      "26  2023-11-01 03:00:00        1.64      1.52       1.52\n",
      "27  2023-11-01 06:00:00        0.67      0.80       0.80\n",
      "28  2023-11-01 09:00:00        0.64      0.80       0.80\n",
      "29  2023-11-01 12:00:00        0.94      2.22       2.22\n",
      "30  2023-11-01 15:00:00        0.74      0.81       0.81\n",
      "31  2023-11-01 18:00:00        1.88      1.80       1.80\n",
      "32  2023-11-01 21:00:00        2.05      1.91       1.91\n",
      "33  2023-11-02 00:00:00        2.18      2.01       2.01\n",
      "34  2023-11-02 03:00:00        1.47      1.71       1.71\n",
      "35  2023-11-02 06:00:00        1.23      2.11       2.11\n",
      "36  2023-11-02 09:00:00        1.33      2.11       2.11\n",
      "37  2023-11-02 12:00:00        2.16      3.91       3.91\n",
      "38  2023-11-02 15:00:00        2.64      5.21       5.21\n",
      "39  2023-11-02 18:00:00        2.54      8.23       8.23\n"
     ]
    }
   ],
   "source": [
    "to_df = {\n",
    "    'datetime': time_array,\n",
    "    'wind_speed': wind_speed,\n",
    "    'wind_deg': wind_gust,\n",
    "    'wind_gust': wind_gust\n",
    "}\n",
    "\n",
    "df = pd.DataFrame(to_df)\n",
    "print(df)\n",
    "df.to_csv('data/cleaned_data.csv')"
   ]
  }
 ],
 "metadata": {
  "kernelspec": {
   "display_name": "base",
   "language": "python",
   "name": "python3"
  },
  "language_info": {
   "codemirror_mode": {
    "name": "ipython",
    "version": 3
   },
   "file_extension": ".py",
   "mimetype": "text/x-python",
   "name": "python",
   "nbconvert_exporter": "python",
   "pygments_lexer": "ipython3",
   "version": "3.9.13"
  }
 },
 "nbformat": 4,
 "nbformat_minor": 2
}
